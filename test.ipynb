{
 "cells": [
  {
   "cell_type": "code",
   "execution_count": null,
   "id": "bcc36221",
   "metadata": {},
   "outputs": [],
   "source": [
    "from phone_subscriber.phone import PhoneSubscriber\n",
    "from matplotlib import pyplot as plt\n",
    "import time"
   ]
  },
  {
   "cell_type": "code",
   "execution_count": null,
   "id": "e1ecd49b",
   "metadata": {},
   "outputs": [],
   "source": [
    "phone_subscriber = PhoneSubscriber(host=\"192.168.31.206\", port=8000)"
   ]
  },
  {
   "cell_type": "code",
   "execution_count": null,
   "id": "bd1945f9",
   "metadata": {},
   "outputs": [],
   "source": [
    "phone_timestamps = []\n",
    "host_timestamps = []\n",
    "\n",
    "init_phone_timestamp, _, _, _, _, _, _ = phone_subscriber.subscribeMessage()\n",
    "init_host_timestamp = time.time()\n",
    "\n",
    "num_frames = 100\n",
    "for _ in range(num_frames):\n",
    "    phone_timestamp, _, _, _, _, _, _ = phone_subscriber.subscribeMessage()\n",
    "    host_timestamp = time.time()\n",
    "    phone_timestamps.append(phone_timestamp - init_phone_timestamp)\n",
    "    host_timestamps.append(host_timestamp - init_host_timestamp)"
   ]
  },
  {
   "cell_type": "code",
   "execution_count": null,
   "id": "e2ef0b70",
   "metadata": {},
   "outputs": [],
   "source": [
    "plt.figure(figsize=(5, 5))\n",
    "plt.plot(phone_timestamps, label='phone timestamp')\n",
    "plt.plot(host_timestamps, label='host timestamp')\n",
    "plt.grid(True)\n",
    "plt.legend()"
   ]
  },
  {
   "cell_type": "code",
   "execution_count": null,
   "id": "957d73b0",
   "metadata": {},
   "outputs": [],
   "source": [
    "plt.figure(figsize=(5, 5))\n",
    "plt.plot(phone_timestamps, host_timestamps)\n",
    "plt.grid(True)"
   ]
  },
  {
   "cell_type": "code",
   "execution_count": null,
   "id": "9782a615",
   "metadata": {},
   "outputs": [],
   "source": [
    "plt.plot([host - phone for host, phone in zip(host_timestamps, phone_timestamps)], label='host - phone')\n",
    "plt.grid(True)\n",
    "plt.legend()\n",
    "plt.show()"
   ]
  },
  {
   "cell_type": "code",
   "execution_count": null,
   "id": "9bcee548",
   "metadata": {},
   "outputs": [],
   "source": [
    "phone_timestamp, _, _, _, _, _, _ = phone_subscriber.subscribeMessage()\n",
    "print(\"phone timestamp:\", phone_timestamp)\n",
    "host_timestamp = time.time()\n",
    "print(\"host timestamp:\", host_timestamp)"
   ]
  },
  {
   "cell_type": "code",
   "execution_count": null,
   "id": "2c862af4",
   "metadata": {},
   "outputs": [],
   "source": [
    "import mujoco\n",
    "import mujoco.viewer\n",
    "from mujoco import MjModel, MjData\n",
    "\n",
    "\n",
    "model = MjModel.from_xml_path(\"examples/ballbot/ballbot.xml\")\n",
    "# model = MjModel.from_xml_path(\"examples/unitree_h1/h1.xml\")\n",
    "data = MjData(model)\n",
    "\n",
    "# body\n",
    "print(\"Bodies:\")\n",
    "print(f\"Number of bodies: {model.nbody}\")\n",
    "for i in range(model.nbody):\n",
    "    name = mujoco.mj_id2name(model, mujoco.mjtObj.mjOBJ_BODY, i)\n",
    "    print(f\"[{i}] {name}\")\n",
    "\n",
    "# joint\n",
    "print(\"Joints:\")\n",
    "print(f\"Number of joints: {model.njnt}\")\n",
    "for i in range(model.njnt):\n",
    "    name = mujoco.mj_id2name(model, mujoco.mjtObj.mjOBJ_JOINT, i)\n",
    "    print(f\"[{i}] {name}\")"
   ]
  },
  {
   "cell_type": "code",
   "execution_count": null,
   "id": "de75d971",
   "metadata": {},
   "outputs": [],
   "source": [
    "mujoco.viewer.launch_passive(model, data)"
   ]
  }
 ],
 "metadata": {
  "kernelspec": {
   "display_name": "mink",
   "language": "python",
   "name": "python3"
  },
  "language_info": {
   "codemirror_mode": {
    "name": "ipython",
    "version": 3
   },
   "file_extension": ".py",
   "mimetype": "text/x-python",
   "name": "python",
   "nbconvert_exporter": "python",
   "pygments_lexer": "ipython3",
   "version": "3.10.18"
  }
 },
 "nbformat": 4,
 "nbformat_minor": 5
}
